{
  "nbformat": 4,
  "nbformat_minor": 0,
  "metadata": {
    "colab": {
      "provenance": [],
      "authorship_tag": "ABX9TyOWM8OZimyvnKkL7vw+9vhw",
      "include_colab_link": true
    },
    "kernelspec": {
      "name": "python3",
      "display_name": "Python 3"
    },
    "language_info": {
      "name": "python"
    }
  },
  "cells": [
    {
      "cell_type": "markdown",
      "metadata": {
        "id": "view-in-github",
        "colab_type": "text"
      },
      "source": [
        "<a href=\"https://colab.research.google.com/github/AlanJack48/Project-ML-/blob/main/Website.ipynb\" target=\"_parent\"><img src=\"https://colab.research.google.com/assets/colab-badge.svg\" alt=\"Open In Colab\"/></a>"
      ]
    },
    {
      "cell_type": "code",
      "execution_count": null,
      "metadata": {
        "id": "PgGiCjK3mjet"
      },
      "outputs": [],
      "source": [
        "<!DOCTYPE html>\n",
        "<html>\n",
        "<head>\n",
        "    <title>Speech Recognition</title>\n",
        "</head>\n",
        "<body>\n",
        "    <button id=\"start\">Start</button>\n",
        "    <p id=\"result\"></p>\n",
        "    <p id=\"corrected\"></p>\n",
        "\n",
        "    <script>\n",
        "        const recognition = new webkitSpeechRecognition();\n",
        "        const button = document.getElementById('start');\n",
        "        const result = document.getElementById('result');\n",
        "        const corrected = document.getElementById('corrected');\n",
        "        \n",
        "        recognition.lang = 'en-US';\n",
        "        recognition.interimResults = true;\n",
        "        recognition.continuous = true;\n",
        "        \n",
        "        button.onclick = () => {\n",
        "            recognition.start();\n",
        "        };\n",
        "        \n",
        "        recognition.onresult = async (event) => {\n",
        "            const transcript = Array.from(event.results)\n",
        "                .map(result => result[0])\n",
        "                .map(result => result.transcript)\n",
        "                .join('');\n",
        "            result.innerText = transcript;\n",
        "            \n",
        "            try {\n",
        "                const response = await fetch('https://api.gingerit.com/v1.0/grammar/check', {\n",
        "                    method: 'POST',\n",
        "                    headers: {\n",
        "                        'Content-Type': 'application/json',\n",
        "                    },\n",
        "                    body: JSON.stringify({\n",
        "                        apiKey: 'API_KEY_HERE',\n",
        "                        lang: 'US',\n",
        "                        text: transcript,\n",
        "                    }),\n",
        "                });\n",
        "                \n",
        "                const data = await response.json();\n",
        "                const result = data.result;\n",
        "                corrected.innerText = result;\n",
        "            } catch (error) {\n",
        "                console.error(error);\n",
        "                corrected.innerText = 'Error checking grammar';\n",
        "            }\n",
        "        };\n",
        "    </script>\n",
        "</body>\n",
        "</html>"
      ]
    }
  ]
}